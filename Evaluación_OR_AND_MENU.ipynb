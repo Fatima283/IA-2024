{
  "nbformat": 4,
  "nbformat_minor": 0,
  "metadata": {
    "colab": {
      "provenance": [],
      "authorship_tag": "ABX9TyMvYbwX/fIq60IhjaF3pC7j",
      "include_colab_link": true
    },
    "kernelspec": {
      "name": "python3",
      "display_name": "Python 3"
    },
    "language_info": {
      "name": "python"
    }
  },
  "cells": [
    {
      "cell_type": "markdown",
      "metadata": {
        "id": "view-in-github",
        "colab_type": "text"
      },
      "source": [
        "<a href=\"https://colab.research.google.com/github/Fatima283/IA-2024/blob/main/Evaluaci%C3%B3n_OR_AND_MENU.ipynb\" target=\"_parent\"><img src=\"https://colab.research.google.com/assets/colab-badge.svg\" alt=\"Open In Colab\"/></a>"
      ]
    },
    {
      "cell_type": "markdown",
      "source": [
        "COMPUERTA OR\n"
      ],
      "metadata": {
        "id": "NEcne90_1Uor"
      }
    },
    {
      "cell_type": "code",
      "execution_count": 6,
      "metadata": {
        "colab": {
          "base_uri": "https://localhost:8080/"
        },
        "id": "_YsyJFga1T8T",
        "outputId": "d48a2e85-cbd7-400e-ff92-e33677d4e72e"
      },
      "outputs": [
        {
          "output_type": "stream",
          "name": "stdout",
          "text": [
            "s es igual a : -0.5\n",
            "0 OR 0 = 0\n"
          ]
        }
      ],
      "source": [
        "x = [0, 0]\n",
        "w = [1, 1]\n",
        "s = -0.5\n",
        "y = 0\n",
        "\n",
        "for i in range(0, 2):\n",
        "    s = s + x[i] * w[i]\n",
        "\n",
        "print('s es igual a :', s)\n",
        "\n",
        "y = 1 if s > 0 else 0\n",
        "print(x[0], 'OR', x[1], '=', y)\n"
      ]
    },
    {
      "cell_type": "code",
      "source": [
        "# Pesos\n",
        "pesos = [1, 2]\n",
        "\n",
        "def calcular_operacion(valores, pesos, umbral):\n",
        "    salida = umbral\n",
        "    for indice in range(2):\n",
        "        salida += valores[indice] * pesos[indice]\n",
        "    return salida\n",
        "\n",
        "while True:\n",
        "    entrada = input(\"Ingresa dos números separados por espacio o presiona Enter para salir: \")\n",
        "\n",
        "    if entrada.strip() == \"\":\n",
        "        print(\"Terminando el programa.\")\n",
        "        break\n",
        "\n",
        "    try:\n",
        "        valores = list(map(float, entrada.split()))\n",
        "\n",
        "        if len(valores) != 2:\n",
        "            print(\"Error: Debes ingresar exactamente dos números.\")\n",
        "            continue\n",
        "\n",
        "        # AND lógica\n",
        "        resultado_and = calcular_operacion(valores, pesos, -2.5)\n",
        "        print(f\"{valores[0]} AND {valores[1]} = {1 if resultado_and > 0 else 0}\")\n",
        "\n",
        "        # OR lógica\n",
        "        resultado_or = calcular_operacion(valores, pesos, 0.5)\n",
        "        print(f\"{valores[0]} OR {valores[1]} = {1 if resultado_or > 0 else 0}\")\n",
        "\n",
        "    except ValueError:\n",
        "        print(\"Error: Asegúrate de ingresar números válidos.\")\n"
      ],
      "metadata": {
        "colab": {
          "base_uri": "https://localhost:8080/"
        },
        "id": "Egn9YbcmhNvL",
        "outputId": "395a9832-9ace-4603-c970-175f3380a7d3"
      },
      "execution_count": 9,
      "outputs": [
        {
          "output_type": "stream",
          "name": "stdout",
          "text": [
            "Ingresa dos números separados por espacio o presiona Enter para salir: 0 0\n",
            "0.0 AND 0.0 = 0\n",
            "0.0 OR 0.0 = 1\n",
            "Ingresa dos números separados por espacio o presiona Enter para salir: \n",
            "Terminando el programa.\n"
          ]
        }
      ]
    }
  ]
}