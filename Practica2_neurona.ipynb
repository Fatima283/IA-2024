{
  "nbformat": 4,
  "nbformat_minor": 0,
  "metadata": {
    "colab": {
      "provenance": [],
      "authorship_tag": "ABX9TyM/5Gg0yh6aU7l3qXjIvOn6",
      "include_colab_link": true
    },
    "kernelspec": {
      "name": "python3",
      "display_name": "Python 3"
    },
    "language_info": {
      "name": "python"
    }
  },
  "cells": [
    {
      "cell_type": "markdown",
      "metadata": {
        "id": "view-in-github",
        "colab_type": "text"
      },
      "source": [
        "<a href=\"https://colab.research.google.com/github/Fatima283/IA-2024/blob/main/Practica2_neurona.ipynb\" target=\"_parent\"><img src=\"https://colab.research.google.com/assets/colab-badge.svg\" alt=\"Open In Colab\"/></a>"
      ]
    },
    {
      "cell_type": "markdown",
      "source": [
        "# Neurona aprendizaje compuerta AND\n",
        "\n",
        "00-> 0\n",
        "01-> 0\n",
        "10-> 0\n",
        "11-> 1"
      ],
      "metadata": {
        "id": "ScZFpRVw5Fcd"
      }
    },
    {
      "cell_type": "code",
      "source": [
        "x=[0,0]\n",
        "w=[5,0]\n",
        "s=0\n",
        "y=0\n",
        "for i in range(0,2):\n",
        "  s=s+x[i]*w[i]\n",
        "print('s es igual a :',s)\n",
        "y=1 if s>0 else 0\n",
        "print(x[0],'AND',x[1],'=',y)\n"
      ],
      "metadata": {
        "colab": {
          "base_uri": "https://localhost:8080/"
        },
        "id": "DlnPlp342-Yb",
        "outputId": "50165055-9e00-4e02-b13d-d67a99fbcc62"
      },
      "execution_count": 3,
      "outputs": [
        {
          "output_type": "stream",
          "name": "stdout",
          "text": [
            "s es igual a : 0\n",
            "0 AND 0 = 0\n"
          ]
        }
      ]
    },
    {
      "cell_type": "code",
      "source": [
        "x=[0,1]\n",
        "w=[5,0]\n",
        "s=0\n",
        "y=0\n",
        "for i in range(0,2):\n",
        "  s=s+x[i]*w[i]\n",
        "print('s es igual a :',s)\n",
        "y=1 if s>0 else 0\n",
        "print(x[0],'AND',x[1],'=',y)"
      ],
      "metadata": {
        "colab": {
          "base_uri": "https://localhost:8080/"
        },
        "id": "G9K96ntH3GBi",
        "outputId": "6372a891-0d88-44dc-b8c8-804548a3895d"
      },
      "execution_count": 4,
      "outputs": [
        {
          "output_type": "stream",
          "name": "stdout",
          "text": [
            "s es igual a : 0\n",
            "0 AND 1 = 0\n"
          ]
        }
      ]
    },
    {
      "cell_type": "code",
      "source": [
        "x=[1,0]\n",
        "w=[5,2]\n",
        "s=0\n",
        "y=0\n",
        "for i in range(0,2):\n",
        "  s=s-x[i]*w[i]\n",
        "print('s es igual a :',s)\n",
        "y=1 if s>0 else 0\n",
        "print(x[0],'AND',x[1],'=',y)\n",
        "\n"
      ],
      "metadata": {
        "colab": {
          "base_uri": "https://localhost:8080/"
        },
        "id": "20wnyywp3MlJ",
        "outputId": "7b450e62-ea6c-4b6a-a20e-cc6288f549a4"
      },
      "execution_count": 5,
      "outputs": [
        {
          "output_type": "stream",
          "name": "stdout",
          "text": [
            "s es igual a : -5\n",
            "1 AND 0 = 0\n"
          ]
        }
      ]
    },
    {
      "cell_type": "code",
      "execution_count": 2,
      "metadata": {
        "colab": {
          "base_uri": "https://localhost:8080/"
        },
        "id": "6ChrbS7_4_vx",
        "outputId": "5978cd4b-68ec-4d22-e443-37264df2a284"
      },
      "outputs": [
        {
          "output_type": "stream",
          "name": "stdout",
          "text": [
            "s es igual a : 0.5\n",
            "1 AND 1 = 1\n"
          ]
        }
      ],
      "source": [
        "x=[1,1]\n",
        "w=[1,2]\n",
        "s=-2.5\n",
        "y=0\n",
        "for i in range(0,2):\n",
        "    s=s+x[i]*w[i]\n",
        "print('s es igual a :',s)\n",
        "\n",
        "y=1 if s>0 else 0\n",
        "print(x[0],'AND',x[1],'=',y)"
      ]
    }
  ]
}