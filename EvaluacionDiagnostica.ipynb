{
  "cells": [
    {
      "cell_type": "markdown",
      "metadata": {
        "id": "view-in-github",
        "colab_type": "text"
      },
      "source": [
        "<a href=\"https://colab.research.google.com/github/Fatima283/IA-2024/blob/main/EvaluacionDiagnostica.ipynb\" target=\"_parent\"><img src=\"https://colab.research.google.com/assets/colab-badge.svg\" alt=\"Open In Colab\"/></a>"
      ]
    },
    {
      "cell_type": "code",
      "execution_count": null,
      "metadata": {
        "id": "6VkabMPNqbNi"
      },
      "outputs": [],
      "source": []
    },
    {
      "cell_type": "markdown",
      "metadata": {
        "id": "gt8s4_o70m1u"
      },
      "source": [
        "# Evaluación Diagnóstica"
      ]
    },
    {
      "cell_type": "markdown",
      "metadata": {
        "id": "7I8Jdw63qfe0"
      },
      "source": [
        "¿Como se declara una lista en python?"
      ]
    },
    {
      "cell_type": "code",
      "execution_count": null,
      "metadata": {
        "colab": {
          "base_uri": "https://localhost:8080/"
        },
        "id": "6kp1_ZMrrmHC",
        "outputId": "c69182e6-dbf1-4849-e684-d8386115c30a"
      },
      "outputs": [
        {
          "name": "stdout",
          "output_type": "stream",
          "text": [
            "[1, 2, 3]\n"
          ]
        }
      ],
      "source": [
        "my_list=[1,2,3]\n",
        "print(my_list)"
      ]
    },
    {
      "cell_type": "markdown",
      "metadata": {
        "id": "vHkpdgXvr25z"
      },
      "source": [
        "¿Que funcion se usa para conocer el numero de elementos en una lista?"
      ]
    },
    {
      "cell_type": "code",
      "execution_count": null,
      "metadata": {
        "colab": {
          "base_uri": "https://localhost:8080/"
        },
        "id": "TPzNr6rksA9T",
        "outputId": "8034e2b7-e43b-406b-8282-fb737588019b"
      },
      "outputs": [
        {
          "name": "stdout",
          "output_type": "stream",
          "text": [
            "3\n"
          ]
        }
      ],
      "source": [
        "print(len(my_list))"
      ]
    },
    {
      "cell_type": "markdown",
      "metadata": {
        "id": "r4on9VQ2sIgO"
      },
      "source": [
        "¿Que resultado obtendremos al ejecutar el siguente codigo?"
      ]
    },
    {
      "cell_type": "code",
      "execution_count": null,
      "metadata": {
        "colab": {
          "base_uri": "https://localhost:8080/"
        },
        "id": "KGGrUPLMsSal",
        "outputId": "ce5cbb18-c5f0-4479-f84e-96e1621cbb91"
      },
      "outputs": [
        {
          "name": "stdout",
          "output_type": "stream",
          "text": [
            "[5, 4, 3, 2, 1]\n"
          ]
        }
      ],
      "source": [
        "a=[1,2,3,4,5]\n",
        "print(a[::-1])"
      ]
    },
    {
      "cell_type": "markdown",
      "metadata": {
        "id": "-ivaHCGvsbog"
      },
      "source": [
        "¿Que salida generara el siguiente codigo?"
      ]
    },
    {
      "cell_type": "code",
      "execution_count": null,
      "metadata": {
        "id": "ytU9pSzZxs8Q"
      },
      "outputs": [],
      "source": []
    },
    {
      "cell_type": "code",
      "execution_count": null,
      "metadata": {
        "colab": {
          "base_uri": "https://localhost:8080/"
        },
        "id": "BjQyV_6cswsW",
        "outputId": "7026d504-1ac2-4211-cd59-f10227219c03"
      },
      "outputs": [
        {
          "name": "stdout",
          "output_type": "stream",
          "text": [
            "[1]\n",
            "[2]\n",
            "[1, 3]\n"
          ]
        }
      ],
      "source": [
        "def foo(x, y = []):\n",
        "   y.append(x)\n",
        "   return y\n",
        "\n",
        "print(foo(1))\n",
        "print(foo(2, []))\n",
        "print(foo(3))"
      ]
    },
    {
      "cell_type": "markdown",
      "metadata": {
        "id": "WHuj3deIsxCP"
      },
      "source": [
        "¿Qque resultado obtendremos al ejecutar el siguiente codigo?"
      ]
    },
    {
      "cell_type": "code",
      "execution_count": null,
      "metadata": {
        "colab": {
          "base_uri": "https://localhost:8080/"
        },
        "id": "aWma4f9Yt3T_",
        "outputId": "90bb9852-995c-439c-cacc-257d48a054aa"
      },
      "outputs": [
        {
          "name": "stdout",
          "output_type": "stream",
          "text": [
            "[2]\n"
          ]
        }
      ],
      "source": [
        "def multiply_list(numbers,factor):\n",
        "  result = []\n",
        "  for number in numbers:\n",
        "    result.append(number * factor)\n",
        "    return result\n",
        "\n",
        "my_list = [1, 2, 3]\n",
        "output = multiply_list(my_list, 2)\n",
        "print(output)"
      ]
    },
    {
      "cell_type": "markdown",
      "metadata": {
        "id": "rZ7dCeYN08G6"
      },
      "source": [
        "# Práctica de python"
      ]
    },
    {
      "cell_type": "markdown",
      "metadata": {
        "id": "JYEL6Dwc1EXS"
      },
      "source": [
        "clasificación de una lista con números pares e impares"
      ]
    },
    {
      "cell_type": "code",
      "execution_count": null,
      "metadata": {
        "id": "XYdEgXm31eB1"
      },
      "outputs": [],
      "source": [
        "#Declaración de variables\n",
        "numeros = [10,25,36,98,77,34,89,58]\n",
        "pares = []\n",
        "impares = []\n"
      ]
    },
    {
      "cell_type": "code",
      "execution_count": null,
      "metadata": {
        "id": "eHLcDJEn2mie"
      },
      "outputs": [],
      "source": [
        "# ciclo for para recorrer la lista\n",
        "for numero in numeros:\n",
        "  if numero % 2 == 0:\n",
        "    pares.append(numero)\n",
        "  else:\n",
        "    impares.append(numero)"
      ]
    },
    {
      "cell_type": "code",
      "execution_count": null,
      "metadata": {
        "colab": {
          "base_uri": "https://localhost:8080/"
        },
        "id": "vUzdXbul347H",
        "outputId": "a57a6ceb-5c7b-432b-aab2-510be8adc8c2"
      },
      "outputs": [
        {
          "name": "stdout",
          "output_type": "stream",
          "text": [
            "pares: [10, 36, 98, 34, 58] total: 5\n",
            "impares: [25, 77, 89] total: 3\n"
          ]
        }
      ],
      "source": [
        "#impresion de resultados\n",
        "print(\"pares:\", pares, \"total:\", len(pares))\n",
        "print(\"impares:\", impares, \"total:\", len(impares))"
      ]
    },
    {
      "cell_type": "code",
      "execution_count": null,
      "metadata": {
        "id": "5zCeu87Y6KcP"
      },
      "outputs": [],
      "source": [
        "# Funcion suma de los numeros pares\n",
        "def sumapares(lista):\n",
        "  suma = 0\n",
        "  for numero in lista:\n",
        "    suma += numero\n",
        "  return suma"
      ]
    },
    {
      "cell_type": "code",
      "execution_count": null,
      "metadata": {
        "colab": {
          "base_uri": "https://localhost:8080/"
        },
        "id": "VlBXwOCF7SMf",
        "outputId": "41a9749c-9529-4b88-f8b9-0c5b2d9a8864"
      },
      "outputs": [
        {
          "name": "stdout",
          "output_type": "stream",
          "text": [
            "suma de pares 236\n",
            "suma de impares 191\n"
          ]
        }
      ],
      "source": [
        "# impresion de la suma\n",
        "print( \"suma de pares\" , sumapares(pares))\n",
        "print( \"suma de impares\" , sumapares(impares))"
      ]
    },
    {
      "cell_type": "markdown",
      "metadata": {
        "id": "mbo-QPD0sm63"
      },
      "source": [
        "PRACTICA 2 PYTHON\n"
      ]
    },
    {
      "cell_type": "code",
      "execution_count": null,
      "metadata": {
        "colab": {
          "base_uri": "https://localhost:8080/"
        },
        "id": "vtK7gt9tsr3G",
        "outputId": "56d49cae-04db-4f41-a9b1-03d0f77a1a8b"
      },
      "outputs": [
        {
          "output_type": "stream",
          "name": "stdout",
          "text": [
            "\n",
            "--- Menú de Gestión de Inventario ---\n",
            "1. Agregar repuesto\n",
            "2. Eliminar repuesto\n",
            "3. Consultar cantidad de repuesto\n",
            "4. Realizar compra\n",
            "5. Salir\n"
          ]
        }
      ],
      "source": [
        "# Definimos un diccionario para almacenar el inventario\n",
        "inventario = {}\n",
        "# Se define un diccionario vacío \"inventario\" que almacenará los repuestos y sus cantidades.\n",
        "#Las claves serán los nombres de los repuestos, y los valores serán las cantidades disponibles.\n",
        "\n",
        "def mostrar_menu():\n",
        "    print(\"\\n--- Menú de Gestión de Inventario ---\")\n",
        "    print(\"1. Agregar repuesto\")\n",
        "    print(\"2. Eliminar repuesto\")\n",
        "    print(\"3. Consultar cantidad de repuesto\")\n",
        "    print(\"4. Realizar compra\")\n",
        "    print(\"5. Salir\")\n",
        "#Imprime un menú con 5 opciones para gestionar el inventario.\n",
        "\n",
        "def agregar_repuesto():\n",
        "    nombre = input(\"Nombre del repuesto: \")\n",
        "    cantidad = int(input(\"Cantidad: \"))\n",
        "    if nombre in inventario:\n",
        "        inventario[nombre] += cantidad\n",
        "    else:\n",
        "        inventario[nombre] = cantidad\n",
        "    print(f\"Repuesto '{nombre}' agregado/actualizado. Cantidad actual: {inventario[nombre]}\")\n",
        "#Permite al usuario agregar un nuevo repuesto al inventario o actualizar la cantidad de uno existente.\n",
        "#Se solicita el nombre y la cantidad del repuesto.\n",
        "#Si el repuesto ya existe en el inventario, se suma la nueva cantidad a la existente. Si no existe, se crea una nueva entrada\n",
        "#en el inventario. Al final, se muestra la cantidad actualizada del repuesto.\n",
        "\n",
        "def eliminar_repuesto():\n",
        "    nombre = input(\"Nombre del repuesto a eliminar: \")\n",
        "    if nombre in inventario:\n",
        "        del inventario[nombre]\n",
        "        print(f\"Repuesto '{nombre}' eliminado del inventario.\")\n",
        "    else:\n",
        "        print(f\"No se encontró el repuesto '{nombre}' en el inventario.\")\n",
        "#Permite eliminar un repuesto del inventario. Se solicita el nombre del repuesto a eliminar.\n",
        "#Si el repuesto existe en el inventario, se elimina. Si no existe, se informa que no se encontró.\n",
        "\n",
        "def consultar_cantidad():\n",
        "    nombre = input(\"Nombre del repuesto a consultar: \")\n",
        "    if nombre in inventario:\n",
        "        print(f\"La cantidad de '{nombre}' en inventario es: {inventario[nombre]}\")\n",
        "    else:\n",
        "        print(f\"No se encontró el repuesto '{nombre}' en el inventario.\")\n",
        "#Permite consultar la cantidad de un repuesto específico. Se pide el nombre del repuesto. Si el repuesto está en el inventario,\n",
        "#se muestra la cantidad disponible. Si no está, se informa al usuario que no se encontró el repuesto.\n",
        "\n",
        "def realizar_compra():\n",
        "    nombre = input(\"Nombre del repuesto a comprar: \")\n",
        "    cantidad = int(input(\"Cantidad a comprar: \"))\n",
        "    if nombre in inventario:\n",
        "        inventario[nombre] += cantidad\n",
        "        print(f\"Se han comprado {cantidad} unidades de '{nombre}'. Cantidad actual: {inventario[nombre]}\")\n",
        "    else:\n",
        "        print(f\"No se puede comprar '{nombre}' porque no está en el inventario.\")\n",
        "#Simula la compra de más unidades de un repuesto ya existente. Se solicita el nombre y la cantidad de repuestos a comprar.\n",
        "#Si el repuesto existe, se suma la cantidad comprada a la cantidad existente.\n",
        "#Si no existe, se informa al usuario que no se puede comprar porque no está en el inventario.\n",
        "\n",
        "def main():\n",
        "    while True:\n",
        "        mostrar_menu()\n",
        "        opcion = input(\"Elija una opción: \")\n",
        "        if opcion == '1':\n",
        "            agregar_repuesto()\n",
        "        elif opcion == '2':\n",
        "            eliminar_repuesto()\n",
        "        elif opcion == '3':\n",
        "            consultar_cantidad()\n",
        "        elif opcion == '4':\n",
        "            realizar_compra()\n",
        "        elif opcion == '5':\n",
        "            print(\"¡Hasta luego!\")\n",
        "            break\n",
        "        else:\n",
        "            print(\"Opción inválida. Por favor, elija una opción válida.\")\n",
        "#Es el bucle principal que mantiene el programa en ejecución.\n",
        "#Muestra el menú y solicita al usuario que elija una opción. Según la opción ingresada, llama a la función correspondiente.\n",
        "\n",
        "if __name__ == \"__main__\":\n",
        "    main()\n",
        "#Esta línea indica que si el script se ejecuta directamente,\n",
        "#se llama a la función main(), que inicia la ejecución del programa.\n",
        "\n"
      ]
    },
    {
      "cell_type": "markdown",
      "source": [
        "Ejercicio 2 PRACTICAS DE PYTHON\n"
      ],
      "metadata": {
        "id": "hSPcYT0DzIFt"
      }
    },
    {
      "cell_type": "code",
      "source": [
        "#Definir una función que calcule horas y costos\n",
        "def calcular_horas_y_costo(empleado, tarifa, proyectos):\n",
        "    total_horas = 0  # Aquí vamos a almacenar el total de horas trabajadas\n",
        "#se encarga de calcular las horas totales trabajadas por un empleado y el costo total basado en su tarifa por hora.\n",
        "#Se inicializa la variable total_horas en 0 para ir sumando las horas trabajadas en todos los proyectos.\n",
        "\n",
        "    # Recorrer todos los proyectos para sumar las horas trabajadas\n",
        "    for proyecto, horas in proyectos.items():\n",
        "        total_horas += horas  # Sumar las horas trabajadas en cada proyecto\n",
        "#Se recorre el diccionario proyectos que contiene los nombres de los proyectos como claves y las horas trabajadas como valores.\n",
        "\n",
        "    # Calcular el costo total\n",
        "    costo_total = total_horas * tarifa\n",
        "#Se calcula el costo total multiplicando las total_horas por la tarifa del empleado.\n",
        "#Esto da el monto que se debe pagar al empleado por todas las horas trabajadas.\n",
        "\n",
        "    # Mostrar el resultado\n",
        "    print(f\"Empleado: {empleado}\")\n",
        "    print(f\"Total de horas trabajadas: {total_horas} horas\")\n",
        "    print(f\"Costo total: ${costo_total}\\n\")\n",
        "#Muestra el nombre del empleado, la cantidad total de horas trabajadas y el costo total en base a la tarifa y horas acumuladas.\n",
        "\n",
        "# Datos de ejemplo\n",
        "empleados = [\n",
        "    {\"nombre\": \"Ana\", \"tarifa\": 20, \"proyectos\": {\"Proyecto A\": 10, \"Proyecto B\": 5}},\n",
        "    {\"nombre\": \"Luis\", \"tarifa\": 25, \"proyectos\": {\"Proyecto A\": 7, \"Proyecto C\": 8}},\n",
        "    {\"nombre\": \"María\", \"tarifa\": 30, \"proyectos\": {\"Proyecto B\": 6, \"Proyecto C\": 9, \"Proyecto A\": 4}},\n",
        "]\n",
        "# Se crea una lista de diccionarios que contiene los datos de tres empleados: nombre,\n",
        "#tarifa (tarifa por hora), y proyectos (diccionario de proyectos y las horas trabajadas en cada uno).\n",
        "\n",
        "# Llamar a la función para cada empleado\n",
        "for empleado in empleados:\n",
        "    calcular_horas_y_costo(empleado[\"nombre\"], empleado[\"tarifa\"], empleado[\"proyectos\"])\n",
        "\n",
        "#Se recorre la lista empleados y se llama a la función calcular_horas_y_costo() para cada empleado, pasando como argumentos el nombre del empleado,\n",
        "#su tarifa por hora, y los proyectos en los que ha trabajado junto con las horas dedicadas a cada uno."
      ],
      "metadata": {
        "colab": {
          "base_uri": "https://localhost:8080/"
        },
        "id": "Cxj9vpqrzNdl",
        "outputId": "69dc7a4c-d18f-47c7-bbf7-57a09a2b71c1"
      },
      "execution_count": 10,
      "outputs": [
        {
          "output_type": "stream",
          "name": "stdout",
          "text": [
            "Empleado: Ana\n",
            "Total de horas trabajadas: 15 horas\n",
            "Costo total: $300\n",
            "\n",
            "Empleado: Luis\n",
            "Total de horas trabajadas: 15 horas\n",
            "Costo total: $375\n",
            "\n",
            "Empleado: María\n",
            "Total de horas trabajadas: 19 horas\n",
            "Costo total: $570\n",
            "\n"
          ]
        }
      ]
    }
  ],
  "metadata": {
    "colab": {
      "toc_visible": true,
      "provenance": [],
      "authorship_tag": "ABX9TyNHAOQ4V7fx/Q/gIy/msLZ3",
      "include_colab_link": true
    },
    "kernelspec": {
      "display_name": "Python 3",
      "name": "python3"
    },
    "language_info": {
      "name": "python"
    }
  },
  "nbformat": 4,
  "nbformat_minor": 0
}