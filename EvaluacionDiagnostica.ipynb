{
  "nbformat": 4,
  "nbformat_minor": 0,
  "metadata": {
    "colab": {
      "provenance": [],
      "toc_visible": true,
      "authorship_tag": "ABX9TyNOKf5atNQS1bQCun61TN/L",
      "include_colab_link": true
    },
    "kernelspec": {
      "name": "python3",
      "display_name": "Python 3"
    },
    "language_info": {
      "name": "python"
    }
  },
  "cells": [
    {
      "cell_type": "markdown",
      "metadata": {
        "id": "view-in-github",
        "colab_type": "text"
      },
      "source": [
        "<a href=\"https://colab.research.google.com/github/Fatima283/IA-2024/blob/main/EvaluacionDiagnostica.ipynb\" target=\"_parent\"><img src=\"https://colab.research.google.com/assets/colab-badge.svg\" alt=\"Open In Colab\"/></a>"
      ]
    },
    {
      "cell_type": "code",
      "execution_count": null,
      "metadata": {
        "id": "6VkabMPNqbNi"
      },
      "outputs": [],
      "source": []
    },
    {
      "cell_type": "markdown",
      "source": [
        "# Evaluación Diagnóstica"
      ],
      "metadata": {
        "id": "gt8s4_o70m1u"
      }
    },
    {
      "cell_type": "markdown",
      "source": [
        "¿Como se declara una lista en python?"
      ],
      "metadata": {
        "id": "7I8Jdw63qfe0"
      }
    },
    {
      "cell_type": "code",
      "source": [
        "my_list=[1,2,3]\n",
        "print(my_list)"
      ],
      "metadata": {
        "colab": {
          "base_uri": "https://localhost:8080/"
        },
        "id": "6kp1_ZMrrmHC",
        "outputId": "c69182e6-dbf1-4849-e684-d8386115c30a"
      },
      "execution_count": null,
      "outputs": [
        {
          "output_type": "stream",
          "name": "stdout",
          "text": [
            "[1, 2, 3]\n"
          ]
        }
      ]
    },
    {
      "cell_type": "markdown",
      "source": [
        "¿Que funcion se usa para conocer el numero de elementos en una lista?"
      ],
      "metadata": {
        "id": "vHkpdgXvr25z"
      }
    },
    {
      "cell_type": "code",
      "source": [
        "print(len(my_list))"
      ],
      "metadata": {
        "colab": {
          "base_uri": "https://localhost:8080/"
        },
        "id": "TPzNr6rksA9T",
        "outputId": "8034e2b7-e43b-406b-8282-fb737588019b"
      },
      "execution_count": null,
      "outputs": [
        {
          "output_type": "stream",
          "name": "stdout",
          "text": [
            "3\n"
          ]
        }
      ]
    },
    {
      "cell_type": "markdown",
      "source": [
        "¿Que resultado obtendremos al ejecutar el siguente codigo?"
      ],
      "metadata": {
        "id": "r4on9VQ2sIgO"
      }
    },
    {
      "cell_type": "code",
      "source": [
        "a=[1,2,3,4,5]\n",
        "print(a[::-1])"
      ],
      "metadata": {
        "colab": {
          "base_uri": "https://localhost:8080/"
        },
        "id": "KGGrUPLMsSal",
        "outputId": "ce5cbb18-c5f0-4479-f84e-96e1621cbb91"
      },
      "execution_count": null,
      "outputs": [
        {
          "output_type": "stream",
          "name": "stdout",
          "text": [
            "[5, 4, 3, 2, 1]\n"
          ]
        }
      ]
    },
    {
      "cell_type": "markdown",
      "source": [
        "¿Que salida generara el siguiente codigo?"
      ],
      "metadata": {
        "id": "-ivaHCGvsbog"
      }
    },
    {
      "cell_type": "code",
      "source": [],
      "metadata": {
        "id": "ytU9pSzZxs8Q"
      },
      "execution_count": null,
      "outputs": []
    },
    {
      "cell_type": "code",
      "source": [
        "def foo(x, y = []):\n",
        "   y.append(x)\n",
        "   return y\n",
        "\n",
        "print(foo(1))\n",
        "print(foo(2, []))\n",
        "print(foo(3))"
      ],
      "metadata": {
        "colab": {
          "base_uri": "https://localhost:8080/"
        },
        "id": "BjQyV_6cswsW",
        "outputId": "7026d504-1ac2-4211-cd59-f10227219c03"
      },
      "execution_count": null,
      "outputs": [
        {
          "output_type": "stream",
          "name": "stdout",
          "text": [
            "[1]\n",
            "[2]\n",
            "[1, 3]\n"
          ]
        }
      ]
    },
    {
      "cell_type": "markdown",
      "source": [
        "¿Qque resultado obtendremos al ejecutar el siguiente codigo?"
      ],
      "metadata": {
        "id": "WHuj3deIsxCP"
      }
    },
    {
      "cell_type": "code",
      "source": [
        "def multiply_list(numbers,factor):\n",
        "  result = []\n",
        "  for number in numbers:\n",
        "    result.append(number * factor)\n",
        "    return result\n",
        "\n",
        "my_list = [1, 2, 3]\n",
        "output = multiply_list(my_list, 2)\n",
        "print(output)"
      ],
      "metadata": {
        "colab": {
          "base_uri": "https://localhost:8080/"
        },
        "id": "aWma4f9Yt3T_",
        "outputId": "90bb9852-995c-439c-cacc-257d48a054aa"
      },
      "execution_count": null,
      "outputs": [
        {
          "output_type": "stream",
          "name": "stdout",
          "text": [
            "[2]\n"
          ]
        }
      ]
    },
    {
      "cell_type": "markdown",
      "source": [
        "# Práctica de python"
      ],
      "metadata": {
        "id": "rZ7dCeYN08G6"
      }
    },
    {
      "cell_type": "markdown",
      "source": [
        "clasificación de una lista con números pares e impares"
      ],
      "metadata": {
        "id": "JYEL6Dwc1EXS"
      }
    },
    {
      "cell_type": "code",
      "source": [
        "#Declaración de variables\n",
        "numeros = [10,25,36,98,77,34,89,58]\n",
        "pares = []\n",
        "impares = []\n"
      ],
      "metadata": {
        "id": "XYdEgXm31eB1"
      },
      "execution_count": 11,
      "outputs": []
    },
    {
      "cell_type": "code",
      "source": [
        "# ciclo for para recorrer la lista\n",
        "for numero in numeros:\n",
        "  if numero % 2 == 0:\n",
        "    pares.append(numero)\n",
        "  else:\n",
        "    impares.append(numero)"
      ],
      "metadata": {
        "id": "eHLcDJEn2mie"
      },
      "execution_count": 12,
      "outputs": []
    },
    {
      "cell_type": "code",
      "source": [
        "#impresion de resultados\n",
        "print(\"pares:\", pares, \"total:\", len(pares))\n",
        "print(\"impares:\", impares, \"total:\", len(impares))"
      ],
      "metadata": {
        "colab": {
          "base_uri": "https://localhost:8080/"
        },
        "id": "vUzdXbul347H",
        "outputId": "a57a6ceb-5c7b-432b-aab2-510be8adc8c2"
      },
      "execution_count": 13,
      "outputs": [
        {
          "output_type": "stream",
          "name": "stdout",
          "text": [
            "pares: [10, 36, 98, 34, 58] total: 5\n",
            "impares: [25, 77, 89] total: 3\n"
          ]
        }
      ]
    },
    {
      "cell_type": "code",
      "source": [
        "# Funcion suma de los numeros pares\n",
        "def sumapares(lista):\n",
        "  suma = 0\n",
        "  for numero in lista:\n",
        "    suma += numero\n",
        "  return suma"
      ],
      "metadata": {
        "id": "5zCeu87Y6KcP"
      },
      "execution_count": 16,
      "outputs": []
    },
    {
      "cell_type": "code",
      "source": [
        "# impresion de la suma\n",
        "print( \"suma de pares\" , sumapares(pares))\n",
        "print( \"suma de impares\" , sumapares(impares))"
      ],
      "metadata": {
        "colab": {
          "base_uri": "https://localhost:8080/"
        },
        "id": "VlBXwOCF7SMf",
        "outputId": "41a9749c-9529-4b88-f8b9-0c5b2d9a8864"
      },
      "execution_count": 18,
      "outputs": [
        {
          "output_type": "stream",
          "name": "stdout",
          "text": [
            "suma de pares 236\n",
            "suma de impares 191\n"
          ]
        }
      ]
    }
  ]
}